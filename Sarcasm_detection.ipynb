{
  "nbformat": 4,
  "nbformat_minor": 0,
  "metadata": {
    "kernelspec": {
      "display_name": "Python 3",
      "language": "python",
      "name": "python3"
    },
    "language_info": {
      "codemirror_mode": {
        "name": "ipython",
        "version": 3
      },
      "file_extension": ".py",
      "mimetype": "text/x-python",
      "name": "python",
      "nbconvert_exporter": "python",
      "pygments_lexer": "ipython3",
      "version": "3.7.3"
    },
    "colab": {
      "name": "Sarcasm_detection.ipynb",
      "provenance": [],
      "collapsed_sections": [
        "dM6kJjymj6b5",
        "ReFZG6xXpzZ6"
      ],
      "machine_shape": "hm"
    }
  },
  "cells": [
    {
      "cell_type": "markdown",
      "metadata": {
        "id": "J8LrdhH1cmqn",
        "colab_type": "text"
      },
      "source": [
        "# Sarcasm Detection in headlines\n"
      ]
    },
    {
      "cell_type": "markdown",
      "metadata": {
        "id": "ewaiseyvP46q",
        "colab_type": "text"
      },
      "source": [
        "Project title: Sarcasm detection in newspaper headlines \n",
        "\n",
        "Data: https://www.kaggle.com/rmisra/news-headlines-dataset-for-sarcasm-detection\n",
        "\n",
        "**Pre processing:**\n",
        "First we removed punctuations and stemmed all words. Hereafter we embedded our word vectors using word2vec with pretrained word vectors (GloVe, 100 dimensions) and removed headlines with less than 3 words\n",
        "\n",
        "**Modelling:**\n",
        "We have implemented a hidden markov model (HMM) and a probabilistic recurrent neural network (RNN) in order to classify the headlines. These models did however perform very poorly, so we also tried adressing the problem using a non-probabilistic models - a standard LSTM model.\n",
        "Furthermore, we also tried looking at the high dimensional input data as a cause of poor performance, and implemented a logistic regression model, which only used four input values, based on calculations of the cosine similarity between embedded words in a headline. The exact calculation used to determine whether a sentence is sarcastic or not, is described in the orignial paper:\n",
        "https://www.aclweb.org/anthology/D16-1104.pdf\n",
        "\n",
        "**HMM**\n",
        "We built a HMM with two hidden states (non-sarcastic = 0, sarcastic = 1) and trained it on our embedded data.\n",
        "As prior distributions for the individual words we assumed a 100 dimensional multivariate distribution with mean 0. In order to calculate the posterior distribution, we used the conjugate prior for the multivariate distribution. Here we used a gaussian for the mean and the LKJCorrCholesky distribution to model the covariance matrix. \n",
        "Detection of sarcasm on a test sample is done by computing the average of the latent states, and determining whether this is above or below a cutoff point of 0.5. This is a biased cutoff point, as illustrated by an example headline of 6 words, where our model predicts \"non-sarcastic\" for 3 words and \"sarcastic\" for the other 3. In this case, the prediction for the overall headline would be \"non-sarcastic\"\n",
        "\n",
        "**RNN**\n",
        "We implemented a probabilistic RNN model with inspiration from material from week 5 in the course and tested it on simulated data to evaluate whether our implementation was correct. This model performed satisfactory and we therefore also tried training the model to classify headlines from our sarcasm dataset, however these predictions were as good as random.\n",
        "Our implementation of the standard LSTM seemed more promising and was able to learn. It had a classification accuracy of 0.679, however this was on the training set, and is most likely therefore also part overfitting."
      ]
    },
    {
      "cell_type": "code",
      "metadata": {
        "id": "-5P2fZymGPl4",
        "colab_type": "code",
        "outputId": "f83362c7-0324-4451-deaf-95710c07a6fb",
        "colab": {
          "base_uri": "https://localhost:8080/",
          "height": 239
        }
      },
      "source": [
        "# IMPORTS\n",
        "!pip install pyro-ppl\n",
        "\n",
        "import pandas as pd\n",
        "import json\n",
        "import numpy as np\n",
        "import matplotlib.pyplot as plt\n",
        "%matplotlib inline\n",
        "plt.style.use('ggplot')\n",
        "\n",
        "import os\n",
        "\n",
        "import torch\n",
        "from torch import nn\n",
        "from torch.distributions import constraints\n",
        "import functools\n",
        "\n",
        "from pyro.infer import SVI, JitTraceEnum_ELBO, Trace_ELBO\n",
        "import pickle \n",
        "\n",
        "from sklearn.model_selection import train_test_split\n",
        "\n",
        "import pyro\n",
        "import pyro.distributions as dist\n",
        "from pyro.infer import SVI, JitTraceEnum_ELBO, TraceEnum_ELBO\n",
        "from pyro.contrib.autoguide import AutoDiagonalNormal, AutoMultivariateNormal, AutoGuideList, AutoDelta\n",
        "from pyro.optim import ClippedAdam\n",
        "from pyro import poutine\n",
        "from pyro.infer import Predictive\n",
        "\n",
        "from pyro.infer import SVI, JitTraceEnum_ELBO, TraceEnum_ELBO, TraceTMC_ELBO\n",
        "from pyro.ops.indexing import Vindex\n",
        "from pyro.optim import Adam\n",
        "from pyro.util import ignore_jit_warnings\n",
        "from pyro.params.param_store import ParamStoreDict"
      ],
      "execution_count": 0,
      "outputs": [
        {
          "output_type": "stream",
          "text": [
            "Collecting pyro-ppl\n",
            "\u001b[?25l  Downloading https://files.pythonhosted.org/packages/c0/77/4db4946f6b5bf0601869c7b7594def42a7197729167484e1779fff5ca0d6/pyro_ppl-1.3.1-py3-none-any.whl (520kB)\n",
            "\u001b[K     |████████████████████████████████| 522kB 2.7MB/s \n",
            "\u001b[?25hRequirement already satisfied: numpy>=1.7 in /usr/local/lib/python3.6/dist-packages (from pyro-ppl) (1.18.4)\n",
            "Requirement already satisfied: opt-einsum>=2.3.2 in /usr/local/lib/python3.6/dist-packages (from pyro-ppl) (3.2.1)\n",
            "Requirement already satisfied: torch>=1.4.0 in /usr/local/lib/python3.6/dist-packages (from pyro-ppl) (1.5.0+cu101)\n",
            "Collecting pyro-api>=0.1.1\n",
            "  Downloading https://files.pythonhosted.org/packages/fc/81/957ae78e6398460a7230b0eb9b8f1cb954c5e913e868e48d89324c68cec7/pyro_api-0.1.2-py3-none-any.whl\n",
            "Requirement already satisfied: tqdm>=4.36 in /usr/local/lib/python3.6/dist-packages (from pyro-ppl) (4.41.1)\n",
            "Requirement already satisfied: future in /usr/local/lib/python3.6/dist-packages (from torch>=1.4.0->pyro-ppl) (0.16.0)\n",
            "Installing collected packages: pyro-api, pyro-ppl\n",
            "Successfully installed pyro-api-0.1.2 pyro-ppl-1.3.1\n"
          ],
          "name": "stdout"
        }
      ]
    },
    {
      "cell_type": "markdown",
      "metadata": {
        "id": "dM6kJjymj6b5",
        "colab_type": "text"
      },
      "source": [
        "#INTRODUCTION"
      ]
    },
    {
      "cell_type": "markdown",
      "metadata": {
        "id": "z8XKWfW8kNj9",
        "colab_type": "text"
      },
      "source": [
        "In this project, we will use a model-based machine learning approach to model headlines. Our dataset consist of two types of headlines; sarcastic and non-sarcastic. Our ultimate goal, is to create a classifier that is able to predict if a headline is sarcastic or not.\n",
        "\n",
        "Since our data is text-data, we are going to enter the field of Natural-Language-Processing which is a combination of Computer Science, Data Science and Linguistics. When combining computers and text-data, the text has to be processed into numerical representation, as computers essentially only understand numbers. This complicates the process of working with the data a lot and makes the pre-processing non-trivial. \n",
        "\n",
        "In this project, we have decided to use a text-embedding called GloVe (Global Vector Representation). GloVe is a unsupervised machine learning model, that has been trained on millions of sentences, to learn how to map every word found on Wikipedia to a 100-dimensional vector representation. This vector representation is a semantic representation of every word, meaning that the interpretation is encoded within the 100-dimensional vector.\n",
        "\n",
        "The training sessions illustrated in this notebook only shows simple examples. THe more complicated ones with a higher amount of epochs, weren't all done in one session of the notebook, and couldnt therefore all be shown together."
      ]
    },
    {
      "cell_type": "markdown",
      "metadata": {
        "id": "ReFZG6xXpzZ6",
        "colab_type": "text"
      },
      "source": [
        "# PRE PROCESSING"
      ]
    },
    {
      "cell_type": "code",
      "metadata": {
        "id": "Aa91dEU8j4eH",
        "colab_type": "code",
        "outputId": "1943045d-2940-4b9e-88d8-486be6406c19",
        "colab": {
          "base_uri": "https://localhost:8080/",
          "height": 85
        }
      },
      "source": [
        "import pandas as pd\n",
        "import nltk\n",
        "from nltk.stem import PorterStemmer\n",
        "from nltk.tokenize import TreebankWordTokenizer\n",
        "from nltk.corpus import stopwords\n",
        "import string\n",
        "nltk.download('punkt')\n",
        "nltk.download('stopwords')\n",
        "\n",
        "import os\n",
        "import json\n",
        "import numpy as np\n",
        "\n",
        "%matplotlib notebook\n",
        "\n",
        "from gensim.test.utils import datapath, get_tmpfile\n",
        "from gensim.models import KeyedVectors\n",
        "from gensim.scripts.glove2word2vec import glove2word2vec"
      ],
      "execution_count": 0,
      "outputs": [
        {
          "output_type": "stream",
          "text": [
            "[nltk_data] Downloading package punkt to /root/nltk_data...\n",
            "[nltk_data]   Unzipping tokenizers/punkt.zip.\n",
            "[nltk_data] Downloading package stopwords to /root/nltk_data...\n",
            "[nltk_data]   Unzipping corpora/stopwords.zip.\n"
          ],
          "name": "stdout"
        }
      ]
    },
    {
      "cell_type": "code",
      "metadata": {
        "id": "8smMN2zhmhYo",
        "colab_type": "code",
        "colab": {}
      },
      "source": [
        "from google.colab import drive\n",
        "#drive.mount('/content/drive')"
      ],
      "execution_count": 0,
      "outputs": []
    },
    {
      "cell_type": "code",
      "metadata": {
        "id": "brH5jziTmohZ",
        "colab_type": "code",
        "outputId": "5fa08b81-b442-4ef2-fc91-8a6672432952",
        "colab": {
          "base_uri": "https://localhost:8080/",
          "height": 34
        }
      },
      "source": [
        "\n",
        "#os.chdir('drive/My Drive/School/Master/Model Based Machine Learning/MBML Project/sarcasm')\n",
        "#os.chdir('drive/My Drive/MBML Project/sarcasm')\n",
        "#os.chdir('drive/My Drive/DTU_Kurser/Model_Based_ML/sarcasm')\n",
        "os.getcwd()"
      ],
      "execution_count": 0,
      "outputs": [
        {
          "output_type": "execute_result",
          "data": {
            "text/plain": [
              "'/content/drive/.shortcut-targets-by-id/1MJ9_gcXivLwH8_OuPdmc9qIGBxLsXB8M/sarcasm'"
            ]
          },
          "metadata": {
            "tags": []
          },
          "execution_count": 8
        }
      ]
    },
    {
      "cell_type": "code",
      "metadata": {
        "id": "99cieTCkj4eO",
        "colab_type": "code",
        "colab": {}
      },
      "source": [
        "porter = PorterStemmer()\n",
        "stop_words = set(stopwords.words('english'))"
      ],
      "execution_count": 0,
      "outputs": []
    },
    {
      "cell_type": "code",
      "metadata": {
        "id": "gkpYy7OTj4eT",
        "colab_type": "code",
        "colab": {}
      },
      "source": [
        "def parse_data(file):\n",
        "    for l in open(file,'r'):\n",
        "        yield json.loads(l)"
      ],
      "execution_count": 0,
      "outputs": []
    },
    {
      "cell_type": "code",
      "metadata": {
        "id": "KzFuk1sNj4eX",
        "colab_type": "code",
        "colab": {}
      },
      "source": [
        "data = list(parse_data('./Sarcasm_Headlines_Dataset.json/Sarcasm_Headlines_Dataset.json'))"
      ],
      "execution_count": 0,
      "outputs": []
    },
    {
      "cell_type": "markdown",
      "metadata": {
        "id": "-RcvFO3eniIP",
        "colab_type": "text"
      },
      "source": [
        "Create a dataframe of our dataset. Each row in the dataframe contains the sentence and the label (1=sarcastic, 0=non sarcastic)"
      ]
    },
    {
      "cell_type": "code",
      "metadata": {
        "id": "_Jc3iga2j4eh",
        "colab_type": "code",
        "colab": {}
      },
      "source": [
        "df_headlines = pd.DataFrame(columns=['headline', 'label'])\n",
        "for article in data:\n",
        "    df_tmp = pd.DataFrame([[article['headline'], article['is_sarcastic']]], columns=['headline', 'label'])\n",
        "    df_headlines = df_headlines.append(df_tmp)"
      ],
      "execution_count": 0,
      "outputs": []
    },
    {
      "cell_type": "markdown",
      "metadata": {
        "id": "DgfwI-Dqnv1U",
        "colab_type": "text"
      },
      "source": [
        "Function for processing our data. This functions has the following steps:\n",
        "\n",
        "1. Remove punctuation\n",
        "2. Tokenize every word\n",
        "3. Remove stopwords\n",
        "4. Lowercase every word\n",
        "5. Remove sentence, if there are less than three words"
      ]
    },
    {
      "cell_type": "code",
      "metadata": {
        "id": "AmaeQqLWj4es",
        "colab_type": "code",
        "colab": {}
      },
      "source": [
        "def process_text_list(x):\n",
        "    # Remove punctuation\n",
        "    table = str.maketrans(dict.fromkeys(string.punctuation) )\n",
        "    x = x.translate(table)\n",
        "\n",
        "    # Tokenize words (returns list)\n",
        "    x = TreebankWordTokenizer().tokenize(x)\n",
        "\n",
        "    # Remove stop words\n",
        "    x = [word.lower() for word in x if not word in stop_words]\n",
        "\n",
        "    #If sentence has less than 3 words, this functions returns None.\n",
        "    if len(x) > 3:\n",
        "      return x\n",
        "      "
      ],
      "execution_count": 0,
      "outputs": []
    },
    {
      "cell_type": "code",
      "metadata": {
        "id": "wIiPrgpUj4e4",
        "colab_type": "code",
        "outputId": "846807e5-b527-458f-cea3-c3449228290f",
        "colab": {
          "base_uri": "https://localhost:8080/",
          "height": 204
        }
      },
      "source": [
        "#Apply processing function\n",
        "df_headlines['headline_processed'] = df_headlines['headline'].apply(process_text_list)\n",
        "\n",
        "#Remove observations, where the processing returns None (headlines with less than three words).\n",
        "df_headlines = df_headlines.dropna()\n",
        "\n",
        "#Fix the indexing on dataframe\n",
        "df_headlines.index = list(range(len(df_headlines)))\n",
        "\n",
        "df_headlines.head()"
      ],
      "execution_count": 0,
      "outputs": [
        {
          "output_type": "execute_result",
          "data": {
            "text/html": [
              "<div>\n",
              "<style scoped>\n",
              "    .dataframe tbody tr th:only-of-type {\n",
              "        vertical-align: middle;\n",
              "    }\n",
              "\n",
              "    .dataframe tbody tr th {\n",
              "        vertical-align: top;\n",
              "    }\n",
              "\n",
              "    .dataframe thead th {\n",
              "        text-align: right;\n",
              "    }\n",
              "</style>\n",
              "<table border=\"1\" class=\"dataframe\">\n",
              "  <thead>\n",
              "    <tr style=\"text-align: right;\">\n",
              "      <th></th>\n",
              "      <th>headline</th>\n",
              "      <th>label</th>\n",
              "      <th>headline_processed</th>\n",
              "    </tr>\n",
              "  </thead>\n",
              "  <tbody>\n",
              "    <tr>\n",
              "      <th>0</th>\n",
              "      <td>former versace store clerk sues over secret 'b...</td>\n",
              "      <td>0</td>\n",
              "      <td>[former, versace, store, clerk, sues, secret, ...</td>\n",
              "    </tr>\n",
              "    <tr>\n",
              "      <th>1</th>\n",
              "      <td>the 'roseanne' revival catches up to our thorn...</td>\n",
              "      <td>0</td>\n",
              "      <td>[roseanne, revival, catches, thorny, political...</td>\n",
              "    </tr>\n",
              "    <tr>\n",
              "      <th>2</th>\n",
              "      <td>mom starting to fear son's web series closest ...</td>\n",
              "      <td>1</td>\n",
              "      <td>[mom, starting, fear, sons, web, series, close...</td>\n",
              "    </tr>\n",
              "    <tr>\n",
              "      <th>3</th>\n",
              "      <td>boehner just wants wife to listen, not come up...</td>\n",
              "      <td>1</td>\n",
              "      <td>[boehner, wants, wife, listen, come, alternati...</td>\n",
              "    </tr>\n",
              "    <tr>\n",
              "      <th>4</th>\n",
              "      <td>j.k. rowling wishes snape happy birthday in th...</td>\n",
              "      <td>0</td>\n",
              "      <td>[jk, rowling, wishes, snape, happy, birthday, ...</td>\n",
              "    </tr>\n",
              "  </tbody>\n",
              "</table>\n",
              "</div>"
            ],
            "text/plain": [
              "                                            headline  ...                                 headline_processed\n",
              "0  former versace store clerk sues over secret 'b...  ...  [former, versace, store, clerk, sues, secret, ...\n",
              "1  the 'roseanne' revival catches up to our thorn...  ...  [roseanne, revival, catches, thorny, political...\n",
              "2  mom starting to fear son's web series closest ...  ...  [mom, starting, fear, sons, web, series, close...\n",
              "3  boehner just wants wife to listen, not come up...  ...  [boehner, wants, wife, listen, come, alternati...\n",
              "4  j.k. rowling wishes snape happy birthday in th...  ...  [jk, rowling, wishes, snape, happy, birthday, ...\n",
              "\n",
              "[5 rows x 3 columns]"
            ]
          },
          "metadata": {
            "tags": []
          },
          "execution_count": 14
        }
      ]
    },
    {
      "cell_type": "markdown",
      "metadata": {
        "id": "Tl66Cog0j4fJ",
        "colab_type": "text"
      },
      "source": [
        "## Word embedding"
      ]
    },
    {
      "cell_type": "markdown",
      "metadata": {
        "id": "yu5E5DKEK_Va",
        "colab_type": "text"
      },
      "source": [
        "Word embedding is a method of representing a word as an nth dimensional vector. This method is widely used in natural language processing as it converts words into computational form. "
      ]
    },
    {
      "cell_type": "code",
      "metadata": {
        "id": "-TqtSTQ-j4fL",
        "colab_type": "code",
        "outputId": "83cb1eec-54fd-4783-a215-03619c8a0f13",
        "colab": {
          "base_uri": "https://localhost:8080/",
          "height": 88
        }
      },
      "source": [
        "from gensim.scripts.glove2word2vec import glove2word2vec\n",
        "glove_input_file = 'glove.6B.100d.txt'\n",
        "word2vec_output_file = 'glove.6B.100d.txt.word2vec'\n",
        "glove2word2vec(glove_input_file, word2vec_output_file)"
      ],
      "execution_count": 0,
      "outputs": [
        {
          "output_type": "stream",
          "text": [
            "/usr/local/lib/python3.6/dist-packages/smart_open/smart_open_lib.py:253: UserWarning: This function is deprecated, use smart_open.open instead. See the migration notes for details: https://github.com/RaRe-Technologies/smart_open/blob/master/README.rst#migrating-to-the-new-open-function\n",
            "  'See the migration notes for details: %s' % _MIGRATION_NOTES_URL\n"
          ],
          "name": "stderr"
        },
        {
          "output_type": "execute_result",
          "data": {
            "text/plain": [
              "(400000, 100)"
            ]
          },
          "metadata": {
            "tags": []
          },
          "execution_count": 15
        }
      ]
    },
    {
      "cell_type": "code",
      "metadata": {
        "id": "RY_iDKaHj4fP",
        "colab_type": "code",
        "outputId": "ffdb9973-a9de-427c-99ab-ff4f9fd7aefe",
        "colab": {
          "base_uri": "https://localhost:8080/",
          "height": 71
        }
      },
      "source": [
        "filename = 'glove.6B.100d.txt.word2vec'\n",
        "model = KeyedVectors.load_word2vec_format(filename, binary=False)"
      ],
      "execution_count": 0,
      "outputs": [
        {
          "output_type": "stream",
          "text": [
            "/usr/local/lib/python3.6/dist-packages/smart_open/smart_open_lib.py:253: UserWarning: This function is deprecated, use smart_open.open instead. See the migration notes for details: https://github.com/RaRe-Technologies/smart_open/blob/master/README.rst#migrating-to-the-new-open-function\n",
            "  'See the migration notes for details: %s' % _MIGRATION_NOTES_URL\n"
          ],
          "name": "stderr"
        }
      ]
    },
    {
      "cell_type": "markdown",
      "metadata": {
        "id": "JBvNVCWdoJd-",
        "colab_type": "text"
      },
      "source": [
        "Apply the word embedding to the words in our headlines and store them in \"final_list\", while the sarcastic label for each headline is stored in the \"labels\".\n",
        "\n",
        "It became apparent that many of the words used in our headlines were not defined by our embeddings, leading to a considerable amount of words being discarded from out data. This could have a negative impact on the prediction power of our model, since potentially important parts of the data would not be considered."
      ]
    },
    {
      "cell_type": "code",
      "metadata": {
        "id": "99JdO9g5j4fU",
        "colab_type": "code",
        "colab": {}
      },
      "source": [
        "# final_list contain our embedded headlines which are imputs to our models (observations)\n",
        "final_list = []\n",
        "count = 0\n",
        "except_list = []\n",
        "\n",
        "for idx, sentence in enumerate(list(df_headlines['headline_processed'])):\n",
        "    sentence_list = []\n",
        "    \n",
        "    # This statement removes words that do not contain an embedding in the GloVe library\n",
        "    for word in sentence:\n",
        "        try:\n",
        "            sentence_list.append(model.word_vec(word))\n",
        "        except:\n",
        "            count += 1\n",
        "            except_list.append([word, idx])\n",
        "    final_list.append(sentence_list)\n",
        "\n",
        "# Creats list with a sarcasm label for each headline\n",
        "labels = list(df_headlines['label'])"
      ],
      "execution_count": 0,
      "outputs": []
    },
    {
      "cell_type": "code",
      "metadata": {
        "id": "COqzPH1Vj4fa",
        "colab_type": "code",
        "colab": {}
      },
      "source": [
        "# Find the number of words that produced an error due to not being present in the GloVe library,\n",
        "# and determine if it came from a sarcastic headline or not. \n",
        "sarcasm_count = 0\n",
        "non_sarcasm_count = 0\n",
        "for word in except_list:\n",
        "    if df_headlines['label'][word[1]] == 1:\n",
        "        sarcasm_count += 1\n",
        "    else:\n",
        "        non_sarcasm_count += 1"
      ],
      "execution_count": 0,
      "outputs": []
    },
    {
      "cell_type": "code",
      "metadata": {
        "id": "4GraG0I1j4fg",
        "colab_type": "code",
        "outputId": "6bdb4412-303b-40f7-c10f-eaa3b394f7a7",
        "colab": {
          "base_uri": "https://localhost:8080/",
          "height": 68
        }
      },
      "source": [
        "print(f'Number of unidentified words in sarcastic headlines: {sarcasm_count}')\n",
        "print(f'Number of unidentified words in non sarcastic headlines: {non_sarcasm_count}')\n",
        "print(f'Total number of unidentified words in corpus {sarcasm_count + non_sarcasm_count}')"
      ],
      "execution_count": 0,
      "outputs": [
        {
          "output_type": "stream",
          "text": [
            "Number of unidentified words in sarcastic headlines: 2512\n",
            "Number of unidentified words in non sarcastic headlines: 2581\n",
            "Total number of unidentified words in corpus 5093\n"
          ],
          "name": "stdout"
        }
      ]
    },
    {
      "cell_type": "code",
      "metadata": {
        "id": "O_VUohBkj4f0",
        "colab_type": "code",
        "outputId": "1ef1648c-9d32-4e8f-fc8d-2529058f1dcd",
        "colab": {
          "base_uri": "https://localhost:8080/",
          "height": 34
        }
      },
      "source": [
        "print(f'Fraction of headlines being sarcastic in corpus : {df_headlines[\"label\"].sum()/len(df_headlines)}')"
      ],
      "execution_count": 0,
      "outputs": [
        {
          "output_type": "stream",
          "text": [
            "Fraction of headlines being sarcastic in corpus : 0.4497153700189753\n"
          ],
          "name": "stdout"
        }
      ]
    },
    {
      "cell_type": "markdown",
      "metadata": {
        "id": "HnBKbN7YqXVi",
        "colab_type": "text"
      },
      "source": [
        "Before we begin our modelling we want to see how the GloVe model actually represents words. By counting where every vector-dimension for every word is located, we can get some usual information about our priors when modelling the problem. \n",
        "\n",
        "We see in the histogram plot below that every dimension looks to be normally distributed around 0 with variance 1. This prior will be used in our modelling."
      ]
    },
    {
      "cell_type": "code",
      "metadata": {
        "id": "CEOcbh4aqrHM",
        "colab_type": "code",
        "colab": {}
      },
      "source": [
        "from collections import defaultdict\n",
        "obs_dict = defaultdict(list)\n",
        "\n",
        "for headline in final_list:\n",
        "    for word in headline:\n",
        "        for idx, embedding in enumerate(word):\n",
        "            obs_dict[idx].append(embedding)"
      ],
      "execution_count": 0,
      "outputs": []
    },
    {
      "cell_type": "code",
      "metadata": {
        "id": "Rbd1Et8vSO2F",
        "colab_type": "code",
        "outputId": "0470a594-af7f-4777-ccdf-1913f21504c7",
        "colab": {
          "base_uri": "https://localhost:8080/",
          "height": 267
        }
      },
      "source": [
        "%matplotlib inline\n",
        "for i in range(100):\n",
        "    plt.hist(sorted(obs_dict[i]))"
      ],
      "execution_count": 0,
      "outputs": [
        {
          "output_type": "display_data",
          "data": {
            "image/png": "[encoded data removed]",
            "text/plain": [
              "<Figure size 432x288 with 1 Axes>"
            ]
          },
          "metadata": {
            "tags": [],
            "needs_background": "light"
          }
        }
      ]
    },
    {
      "cell_type": "code",
      "metadata": {
        "id": "Kp0USWv5z9Hs",
        "colab_type": "code",
        "outputId": "d51296a9-e6d6-468d-bcdc-e6c2a9f6991f",
        "colab": {
          "base_uri": "https://localhost:8080/",
          "height": 51
        }
      },
      "source": [
        "# Make fial_list and labels list of tensors so that it can be run with pyro\n",
        "final_list = [torch.tensor(i) for i in final_list]\n",
        "labels = [torch.tensor(i) for i in labels]\n",
        "\n",
        "pickle.dump( labels, open( \"labels.pickle\", \"wb\" ) )\n",
        "pickle.dump( final_list, open(\"embedded_data.pickle\", \"wb\"))\n",
        "pickle.dump(model, open(\"GloVe_model.pickle\", \"wb\"))"
      ],
      "execution_count": 0,
      "outputs": [
        {
          "output_type": "stream",
          "text": [
            "/usr/local/lib/python3.6/dist-packages/torch/storage.py:34: FutureWarning: pickle support for Storage will be removed in 1.5. Use `torch.save` instead\n",
            "  warnings.warn(\"pickle support for Storage will be removed in 1.5. Use `torch.save` instead\", FutureWarning)\n"
          ],
          "name": "stderr"
        }
      ]
    },
    {
      "cell_type": "markdown",
      "metadata": {
        "id": "n-Cl0tqWG4IH",
        "colab_type": "text"
      },
      "source": [
        "#Load pickle and split into test/train set"
      ]
    },
    {
      "cell_type": "code",
      "metadata": {
        "id": "DjsLmpIzEjO3",
        "colab_type": "code",
        "outputId": "990536a5-4716-4505-e028-66a31488cab1",
        "colab": {
          "base_uri": "https://localhost:8080/",
          "height": 130
        }
      },
      "source": [
        "from google.colab import drive\n",
        "drive.mount('/content/drive')"
      ],
      "execution_count": 0,
      "outputs": [
        {
          "output_type": "stream",
          "text": [
            "Go to this URL in a browser: https://accounts.google.com/o/oauth2/auth?client_id=947318989803-6bn6qk8qdgf4n4g3pfee6491hc0brc4i.apps.googleusercontent.com&redirect_uri=urn%3aietf%3awg%3aoauth%3a2.0%3aoob&response_type=code&scope=email%20https%3a%2f%2fwww.googleapis.com%2fauth%2fdocs.test%20https%3a%2f%2fwww.googleapis.com%2fauth%2fdrive%20https%3a%2f%2fwww.googleapis.com%2fauth%2fdrive.photos.readonly%20https%3a%2f%2fwww.googleapis.com%2fauth%2fpeopleapi.readonly\n",
            "\n",
            "Enter your authorization code:\n",
            "··········\n",
            "Mounted at /content/drive\n"
          ],
          "name": "stdout"
        }
      ]
    },
    {
      "cell_type": "code",
      "metadata": {
        "id": "3jfzxddKEj0W",
        "colab_type": "code",
        "colab": {}
      },
      "source": [
        "#os.chdir('drive/My Drive/School/Master/Model Based Machine Learning/MBML Project/sarcasm')\n",
        "os.chdir('drive/My Drive/MBML Project/sarcasm')\n",
        "#os.chdir('drive/My Drive/DTU_Kurser/Model_Based_ML/sarcasm')\n"
      ],
      "execution_count": 0,
      "outputs": []
    },
    {
      "cell_type": "code",
      "metadata": {
        "id": "JHLFitPoG_OF",
        "colab_type": "code",
        "colab": {}
      },
      "source": [
        "# LOAD DATA AND MODEL\n",
        "final_list = pickle.load(open('embedded_data.pickle','rb'))\n",
        "labels = pickle.load(open('labels.pickle', 'rb'))\n",
        "model = pickle.load(open('GloVe_model.pickle', 'rb'))\n",
        "\n",
        "X_train, X_test, y_train, y_test = train_test_split(final_list, labels, test_size=0.3)"
      ],
      "execution_count": 0,
      "outputs": []
    },
    {
      "cell_type": "markdown",
      "metadata": {
        "id": "5ihQtx-9thuX",
        "colab_type": "text"
      },
      "source": [
        "# Hidden Markov Model:\n",
        "\n",
        "Our first model will be a Hidden Markov Model(HMM). This model is used for sequences of data, where the goal is to model a \"hidden representaion\" also called a latent state using an observed sequence. In our case the latent state will be the label for each sequence of data and the observed values will be every word embedded using GloVe. This also makes this model sub-optimal for our problem, as the HMM is used for sequences of data, where the latent representation changes throughout the sequence.\n",
        "\n",
        "Instead, in our case, the latent state throughout the sequence/headline will stay static, i.e. a headline will always be sarcastic or non-sarcastic. However, as this model is a good option to show our learnings throughout this course, we decided to stick with it, even though it is not a model that directly is used for classification."
      ]
    },
    {
      "cell_type": "code",
      "metadata": {
        "id": "-IHp0DD42p-M",
        "colab_type": "code",
        "colab": {}
      },
      "source": [
        "def hmm_model(data=None, labels=None, include_prior=True):\n",
        "    \"\"\"\n",
        "    Create HMM with an argument for the data and a argument for the label\n",
        "    Both can be set to None and the model would in this case be generative\n",
        "    \"\"\"\n",
        "    if data is None:\n",
        "        num_headlines = 1\n",
        "    else:\n",
        "        num_headlines = len(data)\n",
        "    embedding_size = 100\n",
        "\n",
        "    with poutine.mask(mask=include_prior):\n",
        "        # Transition from a state to another\n",
        "        probs_x = pyro.sample(\"probs_x\",\n",
        "                            dist.Dirichlet(0.5 * torch.eye(2) + 0.5).to_event(1))\n",
        "        \n",
        "        # Sample from covariance prior\n",
        "        theta_probs = pyro.sample(\"theta_probs\", dist.HalfCauchy(torch.ones(embedding_size).expand([2, embedding_size]))\n",
        "                                    .to_event(2))\n",
        "        eta = 10*torch.ones(1)\n",
        "        L_omega_probs = pyro.sample(\"probs_L_omega\", dist.LKJCorrCholesky(embedding_size, eta).expand([2]).to_event(1))\n",
        "        \n",
        "        cov_probs = torch.bmm(theta_probs.sqrt().diag_embed(), L_omega_probs)\n",
        "        \n",
        "        # Sample from mean prior\n",
        "        mean_probs = pyro.sample('probs_mean', \n",
        "                                dist.MultivariateNormal(torch.zeros(2, embedding_size),\n",
        "                                                        torch.eye(embedding_size)).to_event(1))\n",
        "    # Iterate through headlines\n",
        "    for i in pyro.plate(\"headlines\", num_headlines):\n",
        "\n",
        "        # If model is used for freestyling instead of training then we assume that the number of words in the sentence is 10\n",
        "        if data is None:\n",
        "            headline = None\n",
        "            num_words = 10\n",
        "        else:\n",
        "            headline = data[i]\n",
        "            num_words = len(data[i])\n",
        "\n",
        "        # Assume random state of first word (sarcastic/non-sarcastic)\n",
        "        x_obs = torch.randint(low=0, high=2, size=(1,))[0]\n",
        "        \n",
        "\n",
        "        for t in pyro.markov(range(num_words)):\n",
        "\n",
        "            # If model used for prediction then current_label and current_headline is set to None\n",
        "            try:\n",
        "                current_label = labels[i]\n",
        "                current_headline = headline[t]\n",
        "            except:\n",
        "                current_label = None\n",
        "                current_headline = None\n",
        "                \n",
        "            # Here we sample the latent variable based on the current label\n",
        "            x_obs = pyro.sample(\"x_{}_{}\".format(i, t), dist.Categorical(probs_x[x_obs]),\n",
        "                            infer={\"enumerate\": \"parallel\"}, obs=current_label)\n",
        "\n",
        "            # Here we sample the embedded\n",
        "            y = pyro.sample(f\"y_{i}_{t}\", dist.MultivariateNormal(mean_probs[x_obs, :], scale_tril=cov_probs[x_obs, :, :] ),\n",
        "                            obs = current_headline)"
      ],
      "execution_count": 0,
      "outputs": []
    },
    {
      "cell_type": "markdown",
      "metadata": {
        "id": "2vPAuJAQFhZT",
        "colab_type": "text"
      },
      "source": [
        "##TRAIN MODEL ON TRAIN SET"
      ]
    },
    {
      "cell_type": "code",
      "metadata": {
        "id": "TCGol7RP4fL9",
        "colab_type": "code",
        "outputId": "9bb2afa1-b5e3-4c91-b13e-744ed228627b",
        "colab": {
          "base_uri": "https://localhost:8080/",
          "height": 295
        }
      },
      "source": [
        "# Use AutoDelta guide\n",
        "guide = AutoDelta(hmm_model)\n",
        "optim = Adam({'lr': 0.1})\n",
        "elbo = TraceEnum_ELBO(max_plate_nesting=3)\n",
        "svi = SVI(hmm_model, guide, optim, elbo)\n",
        "\n",
        "epochs = 15\n",
        "elbo_list = list()\n",
        "\n",
        "# Training loop\n",
        "for step in range(epochs):\n",
        "    elbo = svi.step(X_train, y_train)\n",
        "    elbo_list.append(elbo)\n",
        "    print(f'{step+1}: {elbo}')\n"
      ],
      "execution_count": 0,
      "outputs": [
        {
          "output_type": "stream",
          "text": [
            "1: 17325410.0\n",
            "2: 12827687.0\n",
            "3: 11603538.0\n",
            "4: 11706135.0\n",
            "5: 11830917.0\n",
            "6: 11784903.0\n",
            "7: 11352413.0\n",
            "8: 10763279.0\n",
            "9: 10270653.0\n",
            "10: 9912960.0\n",
            "11: 9682098.0\n",
            "12: 9559129.0\n",
            "13: 9511603.0\n",
            "14: 9492961.0\n",
            "15: 9475171.0\n"
          ],
          "name": "stdout"
        }
      ]
    },
    {
      "cell_type": "code",
      "metadata": {
        "id": "yVsTZkjzgMCU",
        "colab_type": "code",
        "outputId": "71bc1498-b7a1-4cd1-b515-72e67b9801a2",
        "colab": {
          "base_uri": "https://localhost:8080/",
          "height": 334
        }
      },
      "source": [
        "plt.plot(elbo_list)\n",
        "plt.title('Training of HMM on sarcasm dataset')\n",
        "plt.xlabel('epochs')\n",
        "plt.ylabel('ELBO')"
      ],
      "execution_count": 0,
      "outputs": [
        {
          "output_type": "execute_result",
          "data": {
            "text/plain": [
              "Text(0, 0.5, 'ELBO')"
            ]
          },
          "metadata": {
            "tags": []
          },
          "execution_count": 57
        },
        {
          "output_type": "display_data",
          "data": {
            "image/png": "[encoded data removed]",
            "text/plain": [
              "<Figure size 432x288 with 1 Axes>"
            ]
          },
          "metadata": {
            "tags": []
          }
        }
      ]
    },
    {
      "cell_type": "markdown",
      "metadata": {
        "id": "66ZS-WDCFvZL",
        "colab_type": "text"
      },
      "source": [
        "##Evaluate on test set"
      ]
    },
    {
      "cell_type": "markdown",
      "metadata": {
        "id": "E0Z4lbzTg4Sh",
        "colab_type": "text"
      },
      "source": [
        "**The Generative process**\n",
        "\n",
        "In order to evaluate our model, we first test its freestyling ability by generating a sentence after having been trained. "
      ]
    },
    {
      "cell_type": "code",
      "metadata": {
        "id": "FHqHIkm_js86",
        "colab_type": "code",
        "colab": {}
      },
      "source": [
        "predictive = Predictive(hmm_model, guide=guide, num_samples=1, return_sites = {'probs_x'})\n",
        "informativ_sentence = predictive()"
      ],
      "execution_count": 0,
      "outputs": []
    },
    {
      "cell_type": "markdown",
      "metadata": {
        "id": "PLLd1l6P90ii",
        "colab_type": "text"
      },
      "source": [
        "The transition matrix given below shows why our assumptions for using a HMM for binary classification are flawed. It is clear that the diagonal elements, i.e. staying in the same state are close to 1. This is what we have taught the model when the observed states were the same throughout the headline. This is also why randomly picking a state for the first word will make the model inclined towards staying within that state."
      ]
    },
    {
      "cell_type": "code",
      "metadata": {
        "id": "Uh102bOktqPv",
        "colab_type": "code",
        "outputId": "c3528fb1-a478-4639-aeb2-993c96b4d929",
        "colab": {
          "base_uri": "https://localhost:8080/",
          "height": 54
        }
      },
      "source": [
        "predictive()"
      ],
      "execution_count": 0,
      "outputs": [
        {
          "output_type": "execute_result",
          "data": {
            "text/plain": [
              "{'probs_x': tensor([[[0.9453, 0.0547],\n",
              "          [0.0756, 0.9244]]], grad_fn=<ViewBackward>)}"
            ]
          },
          "metadata": {
            "tags": []
          },
          "execution_count": 56
        }
      ]
    },
    {
      "cell_type": "code",
      "metadata": {
        "id": "_vza09L4qH1X",
        "colab_type": "code",
        "outputId": "7276b3d2-8c88-4f7a-c450-d8721b26ab3c",
        "colab": {
          "base_uri": "https://localhost:8080/",
          "height": 259
        }
      },
      "source": [
        "# This converts the sampled embedding to the actual words, by locating the most \n",
        "# similar embedding in the GloVe library\n",
        "for i in range(10):\n",
        "    vec = np.array(informativ_sentence[f'y_0_{i}'][0].detach().numpy())\n",
        "    word = model.similar_by_vector(vec, topn=1)[0][0]\n",
        "\n",
        "    # This prints the word sampled in the freestyling run, as well as if they have been sampled \n",
        "    # based on a sarcastic distribution or not\n",
        "    print(word, '\\t', informativ_sentence[f'x_0_{i}'])"
      ],
      "execution_count": 0,
      "outputs": [
        {
          "output_type": "stream",
          "text": [
            "http://www.nrlc.org \t tensor([0])\n",
            "mist \t tensor([0])\n",
            "refusal \t tensor([0])\n",
            "safireonlanguage@nytimes.com \t tensor([0])\n",
            "manning \t tensor([0])\n",
            "people \t tensor([0])\n",
            "representatives \t tensor([0])\n",
            "circulars \t tensor([0])\n",
            "impulses \t tensor([0])\n",
            "addressed \t tensor([0])\n"
          ],
          "name": "stdout"
        },
        {
          "output_type": "stream",
          "text": [
            "/usr/local/lib/python3.6/dist-packages/gensim/matutils.py:737: FutureWarning: Conversion of the second argument of issubdtype from `int` to `np.signedinteger` is deprecated. In future, it will be treated as `np.int64 == np.dtype(int).type`.\n",
            "  if np.issubdtype(vec.dtype, np.int):\n"
          ],
          "name": "stderr"
        }
      ]
    },
    {
      "cell_type": "markdown",
      "metadata": {
        "id": "MdruC9Z-ijbH",
        "colab_type": "text"
      },
      "source": [
        "This is a simple evaluation method where the sarcastic label of the headline is based on the mean of its latent variable. Meaning, that if the mean is about 0.5 the senctence is assigned to be sarcastic and if it is under 0.5 then it is assigned to be non-sarcastic.\n",
        "\n",
        "This method is not optimal since the first words in each headline has a random assignment, but still contribute just as much to the label determination as the words towards the end of the headline, where the model has a better idea of the headlines character. \n",
        "\n",
        "We attempted to fix this by putting a logistic regression classifier on the latent variabl. We could however not manage to get this to work in pyro, and at that time also realized that a HMM model was not optimal for this type of problem (classification). We therefore decided to spend our time on building a recurrent neural network (RNN) instead of continue to optimizing the HMM."
      ]
    },
    {
      "cell_type": "code",
      "metadata": {
        "id": "KZ_yoNt6dHMd",
        "colab_type": "code",
        "colab": {}
      },
      "source": [
        "def eval_hmm(X, y):\n",
        "    #Count\n",
        "    tp = 0 #true possitive\n",
        "    fp = 0 #false possitive\n",
        "    tn = 0 #true negative\n",
        "    fn = 0 #false negative\n",
        "\n",
        "    for idx in range(len(X)):\n",
        "        sum_states = 0\n",
        "\n",
        "        sentence = predictive.forward(X[idx:idx+1], None)\n",
        "        num_words = len(X[idx:idx+1][0])\n",
        "\n",
        "        # number of words\n",
        "        for i in range(num_words):\n",
        "            sum_states += sentence[f\"x_0_{i}\"][0]\n",
        "\n",
        "        # Aggregate prediction - this creates a small bias towards non-sarcastic\n",
        "        if sum_states/num_words > 0.5:\n",
        "            pred = 1\n",
        "        else:\n",
        "            pred = 0\n",
        "\n",
        "        # Compute confusion matrix\n",
        "        if pred == 1 and y[idx].item() == 1:\n",
        "            tp += 1\n",
        "        elif pred == 0 and y[idx].item() == 1:\n",
        "            fn += 1\n",
        "        elif pred == 1 and y[idx].item() == 0:\n",
        "            fp += 1\n",
        "        elif pred == 0 and y[idx].item() == 0:\n",
        "            tn +=1\n",
        "        else:\n",
        "          print(\"Something went wrong. Check format of input\")\n",
        "          break\n",
        "\n",
        "    return tp, fn, fp, tn"
      ],
      "execution_count": 0,
      "outputs": []
    },
    {
      "cell_type": "code",
      "metadata": {
        "id": "zrZtJerudoui",
        "colab_type": "code",
        "colab": {}
      },
      "source": [
        "test_x = X_test\n",
        "test_y = y_test\n",
        "\n",
        "tp, fn, fp, tn = eval_hmm(test_x, test_y)"
      ],
      "execution_count": 0,
      "outputs": []
    },
    {
      "cell_type": "code",
      "metadata": {
        "id": "wt5tOAOoh-1i",
        "colab_type": "code",
        "outputId": "6810da32-7c30-4cf6-df4b-782e266c4142",
        "colab": {
          "base_uri": "https://localhost:8080/",
          "height": 404
        }
      },
      "source": [
        "import seaborn as sn\n",
        "\n",
        "arr = np.array([[tp, fn], \n",
        "                [fp, tn]])\n",
        "\n",
        "df_cm = pd.DataFrame(arr, index=['Sarcastic', 'Non-sarcastic'], columns=['Sarcastic', 'Non-sarcastic'])\n",
        "df_cm.index.name = \"True\"\n",
        "df_cm.columns.name = \"Predicted\"\n",
        "\n",
        "sn.set(font_scale=1.4) # for label size\n",
        "\n",
        "f, ax = plt.subplots(figsize=(9, 6))\n",
        "sn.heatmap(df_cm, annot=True, linewidths=0, fmt='d', ax = ax) # font size\n",
        "ax.set_yticks([0.4,1.2])\n",
        "\n",
        "plt.show()"
      ],
      "execution_count": 0,
      "outputs": [
        {
          "output_type": "display_data",
          "data": {
            "image/png": "[encoded data removed]",
            "text/plain": [
              "<Figure size 648x432 with 2 Axes>"
            ]
          },
          "metadata": {
            "tags": []
          }
        }
      ]
    },
    {
      "cell_type": "markdown",
      "metadata": {
        "id": "SWrHq-KJgb8R",
        "colab_type": "text"
      },
      "source": [
        "The confusion matrix confirms that there is a bias towards predicting a sentence to be non-sarcastic"
      ]
    },
    {
      "cell_type": "markdown",
      "metadata": {
        "id": "_Ztbx_8d-mVN",
        "colab_type": "text"
      },
      "source": [
        "#Data Preprocessing for ANN"
      ]
    },
    {
      "cell_type": "code",
      "metadata": {
        "id": "-vDT5kGcAXS7",
        "colab_type": "code",
        "colab": {}
      },
      "source": [
        "import torch.nn as nn\n",
        "import torch.nn.functional as F\n",
        "import torch.optim as optim\n",
        "from torch.autograd import Variable"
      ],
      "execution_count": 0,
      "outputs": []
    },
    {
      "cell_type": "code",
      "metadata": {
        "id": "-RW9wvOy-ndU",
        "colab_type": "code",
        "colab": {}
      },
      "source": [
        "# LOAD DATA AND EMgMODEL\n",
        "final_list = pickle.load(open('embedded_data.pickle','rb'))\n",
        "labels = pickle.load(open('labels.pickle', 'rb'))\n",
        "model = pickle.load(open('GloVe_model.pickle', 'rb'))\n"
      ],
      "execution_count": 0,
      "outputs": []
    },
    {
      "cell_type": "code",
      "metadata": {
        "id": "bBPi-3FWIs43",
        "colab_type": "code",
        "colab": {}
      },
      "source": [
        "#Padds the headlines with tensors so all headlines are of equal length\n",
        "padded_headlines = nn.utils.rnn.pad_sequence(final_list[0:len(final_list)])\n",
        "padded_headlines = padded_headlines.view(len(final_list), 25, 100)"
      ],
      "execution_count": 0,
      "outputs": []
    },
    {
      "cell_type": "markdown",
      "metadata": {
        "id": "sYTfaS3yASmT",
        "colab_type": "text"
      },
      "source": [
        "# Bayesian ANN WITH SIMULATED DATA"
      ]
    },
    {
      "cell_type": "markdown",
      "metadata": {
        "id": "lnUkggAUswb4",
        "colab_type": "text"
      },
      "source": [
        "Bayesian Artificial Neural Network: Proof of concept using simulated data.\n",
        "\n",
        "Because we would like to implement a bayesian-ANN on our data, we first tried to fit it to some simulated data to test if we were able to implement it correctly. This also helps determine if the lack of learning on our data is due to the problem being hard and not that the model was not built correctly. "
      ]
    },
    {
      "cell_type": "code",
      "metadata": {
        "id": "NXZFzttfAp1X",
        "colab_type": "code",
        "colab": {}
      },
      "source": [
        "#Simulated data: Sinus function of varying size with normal distributed noise.\n",
        "def func0(x):\n",
        "    return 0 + 10 * torch.sin(4 * x) + 3 * torch.distributions.Normal(torch.zeros(len(x)), torch.ones(len(x))).sample()\n",
        "\n",
        "def func1(x):\n",
        "    return 10  + 2 * torch.sin(x) + 3 * torch.distributions.Normal(torch.zeros(len(x)), torch.ones(len(x))).sample()"
      ],
      "execution_count": 0,
      "outputs": []
    },
    {
      "cell_type": "code",
      "metadata": {
        "id": "VS5fO7GjBt7B",
        "colab_type": "code",
        "outputId": "22594042-09c3-46cf-da3c-a1e8a2fab862",
        "colab": {
          "base_uri": "https://localhost:8080/",
          "height": 273
        }
      },
      "source": [
        "#Visualise distributions:\n",
        "x = torch.arange(-30, 30, 0.01)\n",
        "\n",
        "plt.plot(x, func0(x) )\n",
        "plt.plot(x, func1(x) )\n",
        "plt.show()"
      ],
      "execution_count": 0,
      "outputs": [
        {
          "output_type": "display_data",
          "data": {
            "image/png": "[encoded data removed]",
            "text/plain": [
              "<Figure size 432x288 with 1 Axes>"
            ]
          },
          "metadata": {
            "tags": [],
            "needs_background": "light"
          }
        }
      ]
    },
    {
      "cell_type": "code",
      "metadata": {
        "id": "zR4ape-pARRg",
        "colab_type": "code",
        "outputId": "7e9b762d-13b1-4b11-d6c6-06f01588bce4",
        "colab": {
          "base_uri": "https://localhost:8080/",
          "height": 71
        }
      },
      "source": [
        "#Define dataset\n",
        "train_x = torch.tensor(torch.zeros((1000, 100, 1)) )\n",
        "train_y = []\n",
        "\n",
        "#Sample from the two functions in one dataset\n",
        "for i in range(1000):\n",
        "    # sample class/function to use\n",
        "    if np.random.randint(2) == 0:\n",
        "        idx = np.random.randint(len(x) - 100)\n",
        "        train_x[i] = func0(x[idx:idx+100]).reshape(100, 1)\n",
        "        train_y.append(0)\n",
        "        \n",
        "    else:\n",
        "        idx = np.random.randint(len(x) - 100)\n",
        "        train_x[i] = func1(x[idx:idx+100]).reshape(100, 1)\n",
        "        train_y.append(1)\n",
        "\n",
        "train_y = torch.tensor(train_y)"
      ],
      "execution_count": 0,
      "outputs": [
        {
          "output_type": "stream",
          "text": [
            "/usr/local/lib/python3.6/dist-packages/ipykernel_launcher.py:2: UserWarning: To copy construct from a tensor, it is recommended to use sourceTensor.clone().detach() or sourceTensor.clone().detach().requires_grad_(True), rather than torch.tensor(sourceTensor).\n",
            "  \n"
          ],
          "name": "stderr"
        }
      ]
    },
    {
      "cell_type": "code",
      "metadata": {
        "id": "56PsDGzuARkO",
        "colab_type": "code",
        "colab": {}
      },
      "source": [
        "from torch.nn.functional import log_softmax, sigmoid\n",
        "class rnn_network(torch.nn.Module):\n",
        "    def __init__(self, embedding_dim, hidden_dim):\n",
        "        super(rnn_network, self).__init__()\n",
        "\n",
        "        self.embedding_dim = embedding_dim\n",
        "        self.hidden_dim = hidden_dim\n",
        "\n",
        "        self.rnn_layer1 = nn.RNN(self.embedding_dim, self.hidden_dim, batch_first=True, num_layers=1)\n",
        "        self.output_layer = nn.Linear(hidden_dim, 1)\n",
        "    \n",
        "    def forward(self, x):\n",
        "\n",
        "        out, ct = self.rnn_layer1(x)\n",
        "        out = out.contiguous().view(-1, self.hidden_dim)\n",
        "\n",
        "        out = out.view(len(x), -1)\n",
        "\n",
        "        out = out[:,-1]\n",
        "\n",
        "        return out"
      ],
      "execution_count": 0,
      "outputs": []
    },
    {
      "cell_type": "code",
      "metadata": {
        "id": "pvDbwPoAOC9v",
        "colab_type": "code",
        "colab": {}
      },
      "source": [
        "#Initialize the neural network from PyTorch\n",
        "torch_model = rnn_network(embedding_dim=1, hidden_dim=50) "
      ],
      "execution_count": 0,
      "outputs": []
    },
    {
      "cell_type": "code",
      "metadata": {
        "id": "_SfFGRqSAR2e",
        "colab_type": "code",
        "colab": {}
      },
      "source": [
        "from pyro.distributions import Normal\n",
        "def nnet_model(X, y=None):\n",
        "  \n",
        "    \n",
        "    # Convert the PyTorch neural net into a Pyro model with priors\n",
        "    # Priors for the neural model\n",
        "    priors = {} \n",
        "\n",
        "    # Loop over all neural network parameters\n",
        "    for name, par in torch_model.named_parameters():     \n",
        "        \n",
        "        # Each parameter has a N(0, 5) prior\n",
        "        priors[name] = dist.Normal(torch.zeros(*par.shape), 5*torch.ones(*par.shape)).independent(1) \n",
        "    \n",
        "    # Make this model and these priors a Pyro model\n",
        "    bayesian_model = pyro.random_module('bayesian_model', torch_model, priors)\n",
        "\n",
        "    # Initialize the model \n",
        "    sampled_model = bayesian_model()                                           \n",
        "    \n",
        "    # The generative process\n",
        "    with pyro.plate(\"observations\"):\n",
        "\n",
        "        # Feed-forward the design matrix X through the neural network\n",
        "        predicted_labels = sigmoid(sampled_model(X)) \n",
        "        y = pyro.sample(\"obs\", dist.Bernoulli(probs=predicted_labels), obs=y)\n",
        "\n",
        "    return y"
      ],
      "execution_count": 0,
      "outputs": []
    },
    {
      "cell_type": "code",
      "metadata": {
        "id": "AFuVf6UdD4rd",
        "colab_type": "code",
        "colab": {}
      },
      "source": [
        "softplus = torch.nn.Softplus()\n",
        "\n",
        "def guide(x, y = None):\n",
        "\n",
        "    # Layer rnn_ih_10\n",
        "    rnn_ih_l0_mu = torch.randn_like(torch_model.rnn_layer1.weight_ih_l0)\n",
        "    rnn_ih_l0_sigma = torch.randn_like(torch_model.rnn_layer1.weight_ih_l0)\n",
        "    rnn_ih_l0_mu_param = pyro.param(\"rnn_ih_l0_mu\", rnn_ih_l0_mu)\n",
        "    rnn_ih_l0_sigma_param = softplus(pyro.param(\"rnn_ih_l0_sigma\", rnn_ih_l0_sigma))\n",
        "    rnn_ih_l0_prior = Normal(loc=rnn_ih_l0_mu_param, scale=rnn_ih_l0_sigma_param)\n",
        "    \n",
        "    #Layer rnn_hh_10\n",
        "    rnn_hh_l0_mu = torch.randn_like(torch_model.rnn_layer1.weight_hh_l0)\n",
        "    rnn_hh_l0_sigma = torch.randn_like(torch_model.rnn_layer1.weight_hh_l0)\n",
        "    rnn_hh_l0_mu_param = pyro.param(\"rnn_hh_l0_mu\", rnn_hh_l0_mu)\n",
        "    rnn_hh_l0_sigma_param = softplus(pyro.param(\"rnn_hh_l0_sigma\", rnn_hh_l0_sigma))\n",
        "    rnn_hh_l0_prior = Normal(loc=rnn_hh_l0_mu_param, scale=rnn_hh_l0_sigma_param)\n",
        "\n",
        "    # Bias bias_ih_l0\n",
        "    bias_ih_l0_mu = torch.randn_like(torch_model.rnn_layer1.bias_ih_l0)\n",
        "    bias_ih_l0_sigma = torch.randn_like(torch_model.rnn_layer1.bias_ih_l0)\n",
        "    bias_ih_l0_mu_param = pyro.param(\"bias_ih_l0_mu\", bias_ih_l0_mu)\n",
        "    bias_ih_l0_sigma_param = softplus(pyro.param(\"bias_ih_l0_sigma\", bias_ih_l0_sigma))\n",
        "    bias_ih_l0_prior = Normal(loc=bias_ih_l0_mu_param, scale=bias_ih_l0_sigma_param)\n",
        "\n",
        "    # Bias bias_hh_l0\n",
        "    bias_hh_l0_mu = torch.randn_like(torch_model.rnn_layer1.bias_hh_l0)\n",
        "    bias_hh_l0_sigma = torch.randn_like(torch_model.rnn_layer1.bias_hh_l0)\n",
        "    bias_hh_l0_mu_param = pyro.param(\"bias_hh_l0_mu\", bias_hh_l0_mu)\n",
        "    bias_hh_l0_sigma_param = softplus(pyro.param(\"bias_hh_l0_sigma\", bias_hh_l0_sigma))\n",
        "    bias_hh_l0_prior = Normal(loc=bias_hh_l0_mu_param, scale=bias_hh_l0_sigma_param)\n",
        "\n",
        "    # Output layer weight distribution priors\n",
        "    outw_mu = torch.randn_like(torch_model.output_layer.weight)\n",
        "    outw_sigma = torch.randn_like(torch_model.output_layer.weight)\n",
        "    outw_mu_param = pyro.param(\"output_layer_mu\", outw_mu)\n",
        "    outw_sigma_param = softplus(pyro.param(\"output_layer_sigma\", outw_sigma))\n",
        "    outw_prior = Normal(loc=outw_mu_param, scale=outw_sigma_param)\n",
        "\n",
        "    # Output layer bias distribution priors\n",
        "    outb_mu = torch.randn_like(torch_model.output_layer.bias)\n",
        "    outb_sigma = torch.randn_like(torch_model.output_layer.bias)\n",
        "    outb_mu_param = pyro.param(\"output_layer_mu\", outb_mu)\n",
        "    outb_sigma_param = softplus(pyro.param(\"output_layer_sigma\", outb_sigma))\n",
        "    outb_prior = Normal(loc=outb_mu_param, scale=outb_sigma_param)\n",
        "\n",
        "    priors = {'rnn_layer1.weight_ih_l0': rnn_ih_l0_prior,\n",
        "              'rnn_layer1.bias_ih_l0': bias_ih_l0_prior,\n",
        "              'rnn_layer1.weight_hh_l0': rnn_hh_l0_prior,\n",
        "              'rnn_layer1.bias_hh_l0': bias_hh_l0_prior,\n",
        "              'output_layer.weight': outw_prior,\n",
        "              'output_layer.bias': outb_prior}\n",
        "    \n",
        "    bayesian_model = pyro.random_module('bayesian_model', torch_model, priors)\n",
        "    \n",
        "    return bayesian_model()"
      ],
      "execution_count": 0,
      "outputs": []
    },
    {
      "cell_type": "code",
      "metadata": {
        "id": "gBfnQ7eFzlko",
        "colab_type": "code",
        "colab": {}
      },
      "source": [
        "#Pick whether to use predefined or custom guide:\n",
        "#guide = AutoDelta(nnet_model)"
      ],
      "execution_count": 0,
      "outputs": []
    },
    {
      "cell_type": "code",
      "metadata": {
        "id": "R3c6j-meD43_",
        "colab_type": "code",
        "outputId": "9fa39d61-23bc-4e6a-e372-6520926f0ea6",
        "colab": {
          "base_uri": "https://localhost:8080/",
          "height": 207
        }
      },
      "source": [
        "# Define the number of optimization steps\n",
        "n_steps = 50\n",
        "\n",
        "pyro.clear_param_store()\n",
        "\n",
        "loss_list = []\n",
        "\n",
        "# Setup the optimizer\n",
        "adam_params = {\"lr\": 0.1}\n",
        "optimizer = Adam(adam_params)\n",
        "\n",
        "# \"Log\" the ELBO scores:\n",
        "elbo_list = list()\n",
        "\n",
        "# Setup the inference algorithm\n",
        "elbo = Trace_ELBO()\n",
        "svi = SVI(nnet_model, guide, optimizer, loss=elbo)\n",
        "\n",
        "# Do gradient steps\n",
        "for step in range(n_steps):\n",
        "    elbo = svi.step(train_x, train_y.type(torch.DoubleTensor))\n",
        "    elbo_list.append(elbo)\n",
        "\n",
        "    if step % 10 == 0:\n",
        "        loss_list.append(elbo/len(train_x) )\n",
        "        print(\"[%d] ELBO: %.1f\" % (step, elbo))"
      ],
      "execution_count": 0,
      "outputs": [
        {
          "output_type": "stream",
          "text": [
            "/usr/local/lib/python3.6/dist-packages/pyro/primitives.py:406: FutureWarning: The `random_module` primitive is deprecated, and will be removed in a future release. Use `pyro.nn.Module` to create Bayesian modules from `torch.nn.Module` instances.\n",
            "  \"modules from `torch.nn.Module` instances.\", FutureWarning)\n",
            "/usr/local/lib/python3.6/dist-packages/torch/nn/functional.py:1569: UserWarning: nn.functional.sigmoid is deprecated. Use torch.sigmoid instead.\n",
            "  warnings.warn(\"nn.functional.sigmoid is deprecated. Use torch.sigmoid instead.\")\n"
          ],
          "name": "stderr"
        },
        {
          "output_type": "stream",
          "text": [
            "[0] ELBO: 7647.7\n",
            "[10] ELBO: 7556.2\n",
            "[20] ELBO: 7524.4\n",
            "[30] ELBO: 7514.9\n",
            "[40] ELBO: 7512.0\n",
            "[50] ELBO: 7511.0\n"
          ],
          "name": "stdout"
        }
      ]
    },
    {
      "cell_type": "code",
      "metadata": {
        "id": "OJ0T73mmPdnS",
        "colab_type": "code",
        "outputId": "1f810d1c-e4f6-421b-f8a4-5f9a89b618e1",
        "colab": {
          "base_uri": "https://localhost:8080/",
          "height": 315
        }
      },
      "source": [
        "#Plot training ELBO\n",
        "%matplotlib inline\n",
        "plt.plot(elbo_list)\n",
        "plt.title('Training of ANN on sarcasm dataset')\n",
        "plt.xlabel('epochs')\n",
        "plt.ylabel('ELBO')\n",
        "plt.show()"
      ],
      "execution_count": 0,
      "outputs": [
        {
          "output_type": "display_data",
          "data": {
            "image/png": "[encoded data removed]",
            "text/plain": [
              "<Figure size 432x288 with 1 Axes>"
            ]
          },
          "metadata": {
            "tags": [],
            "needs_background": "light"
          }
        }
      ]
    },
    {
      "cell_type": "code",
      "metadata": {
        "id": "vZ2dKz7UD5B7",
        "colab_type": "code",
        "outputId": "dbd1b477-6170-4cc7-bcae-b7b20ea7a4b1",
        "colab": {
          "base_uri": "https://localhost:8080/",
          "height": 105
        }
      },
      "source": [
        "from pyro.infer import Predictive\n",
        "\n",
        "# Make predictions for test set\n",
        "predictive = Predictive(nnet_model, guide=guide, num_samples=100,\n",
        "                        return_sites=(\"obs\", \"_RETURN\"))\n",
        "samples = predictive(train_x)"
      ],
      "execution_count": 0,
      "outputs": [
        {
          "output_type": "stream",
          "text": [
            "/usr/local/lib/python3.6/dist-packages/pyro/primitives.py:406: FutureWarning: The `random_module` primitive is deprecated, and will be removed in a future release. Use `pyro.nn.Module` to create Bayesian modules from `torch.nn.Module` instances.\n",
            "  \"modules from `torch.nn.Module` instances.\", FutureWarning)\n",
            "/usr/local/lib/python3.6/dist-packages/torch/nn/functional.py:1569: UserWarning: nn.functional.sigmoid is deprecated. Use torch.sigmoid instead.\n",
            "  warnings.warn(\"nn.functional.sigmoid is deprecated. Use torch.sigmoid instead.\")\n"
          ],
          "name": "stderr"
        }
      ]
    },
    {
      "cell_type": "code",
      "metadata": {
        "id": "TuchoRovVGOv",
        "colab_type": "code",
        "outputId": "fd18f050-256d-44d0-8127-a2330372f497",
        "colab": {
          "base_uri": "https://localhost:8080/",
          "height": 34
        }
      },
      "source": [
        "true_count = 0\n",
        "for idx, pred in enumerate(torch.median(samples[\"obs\"],dim=0, keepdim=False, out=None)[0]):\n",
        "    if pred > 0.5:\n",
        "        pred = 1\n",
        "    else:\n",
        "        pred = 0\n",
        "    # Pyro permutes the labels, i.e. sarcastic=0 \n",
        "    # and non-sarcastic=1\n",
        "    if pred == train_y[idx].item():\n",
        "        true_count += 1\n",
        "print(true_count/len(train_x))"
      ],
      "execution_count": 0,
      "outputs": [
        {
          "output_type": "stream",
          "text": [
            "0.256\n"
          ],
          "name": "stdout"
        }
      ]
    },
    {
      "cell_type": "markdown",
      "metadata": {
        "id": "ZxsLKwIeu0b0",
        "colab_type": "text"
      },
      "source": [
        "Above we have shown the error rate(%) of the Bayesian RNN on simulated data. Converting it to accuracy: $$Accuracy=1-error rate = 1-0.256=0.744$$\n",
        "\n",
        "This is now a POC that the Bayesian RNN model with custom guide is able to learn from data.\n"
      ]
    },
    {
      "cell_type": "markdown",
      "metadata": {
        "id": "t-squJlFHeGb",
        "colab_type": "text"
      },
      "source": [
        "# Bayesian RNN on sarcasm dataset"
      ]
    },
    {
      "cell_type": "code",
      "metadata": {
        "id": "tMIe2XxiHkFN",
        "colab_type": "code",
        "colab": {}
      },
      "source": [
        "from torch.nn.functional import log_softmax, sigmoid\n",
        "class rnn_network(torch.nn.Module):\n",
        "    def __init__(self, embedding_dim, hidden_dim):\n",
        "        super(rnn_network, self).__init__()\n",
        "\n",
        "        self.embedding_dim = embedding_dim\n",
        "        self.hidden_dim = hidden_dim\n",
        "\n",
        "        self.rnn_layer1 = nn.RNN(self.embedding_dim, self.hidden_dim, batch_first=True, num_layers=1)\n",
        "        self.output_layer = nn.Linear(hidden_dim, 1)\n",
        "\n",
        "        #self.sig = nn.Sigmoid()\n",
        "    \n",
        "    def forward(self, x):\n",
        "\n",
        "        out, ct = self.rnn_layer1(x)\n",
        "        out = out.contiguous().view(-1, self.hidden_dim)\n",
        "\n",
        "        out = out.view(len(padded_headlines), -1)\n",
        "\n",
        "        out = out[:,-1]\n",
        "\n",
        "        return out"
      ],
      "execution_count": 0,
      "outputs": []
    },
    {
      "cell_type": "code",
      "metadata": {
        "id": "cb2UYi_wOWft",
        "colab_type": "code",
        "colab": {}
      },
      "source": [
        "# Initialize the neural network from PyTorch\n",
        "torch_model = rnn_network(embedding_dim=100, hidden_dim=50)"
      ],
      "execution_count": 0,
      "outputs": []
    },
    {
      "cell_type": "code",
      "metadata": {
        "id": "Yn4omzOtHuIU",
        "colab_type": "code",
        "colab": {}
      },
      "source": [
        "from pyro.distributions import Normal\n",
        "def nnet_model(X, y=None):\n",
        "    \n",
        "    # Convert the PyTorch neural net into a Pyro model with priors\n",
        "    priors = {} # Priors for the neural model\n",
        "    for name, par in torch_model.named_parameters():     # Loop over all neural network parameters\n",
        "        \n",
        "        priors[name] = dist.Normal(torch.zeros(*par.shape), torch.ones(*par.shape)).independent(1) # Each parameter has a N(0, 1) prior\n",
        "        #priors[name] = centered_normal(*par.shape, *par.shape).independent(1) # Each parameter has a N(0, 1) prior\n",
        "    \n",
        "    bayesian_model = pyro.random_module('bayesian_model', torch_model, priors) # Make this model and these priors a Pyro model\n",
        "    sampled_model = bayesian_model()                                           # Initialize the model\n",
        "    \n",
        "    # The generative process\n",
        "    with pyro.plate(\"observations\"):\n",
        "        predicted_labels = sigmoid(sampled_model(X)).squeeze(-1) # Feed-forward the design matrix X through the neural network\n",
        "        y = pyro.sample(\"obs\", dist.Bernoulli(probs=predicted_labels), obs=y)\n",
        "        \n",
        "    return y"
      ],
      "execution_count": 0,
      "outputs": []
    },
    {
      "cell_type": "code",
      "metadata": {
        "id": "o4hl0MWCb69V",
        "colab_type": "code",
        "colab": {}
      },
      "source": [
        "#Try both with predifined and our own custom made guide:\n",
        "softplus = torch.nn.Softplus()\n",
        "\n",
        "def guide(x, y=None):\n",
        "\n",
        "    # Layer rnn_ih_10\n",
        "    rnn_ih_l0_mu = torch.randn_like(torch_model.rnn_layer1.weight_ih_l0)\n",
        "    rnn_ih_l0_sigma = torch.randn_like(torch_model.rnn_layer1.weight_ih_l0)\n",
        "    rnn_ih_l0_mu_param = pyro.param(\"rnn_ih_l0_mu\", rnn_ih_l0_mu)\n",
        "    rnn_ih_l0_sigma_param = softplus(pyro.param(\"rnn_ih_l0_sigma\", rnn_ih_l0_sigma))\n",
        "    rnn_ih_l0_prior = Normal(loc=rnn_ih_l0_mu_param, scale=rnn_ih_l0_sigma_param)\n",
        "    \n",
        "    #Layer rnn_hh_10\n",
        "    rnn_hh_l0_mu = torch.randn_like(torch_model.rnn_layer1.weight_hh_l0)\n",
        "    rnn_hh_l0_sigma = torch.randn_like(torch_model.rnn_layer1.weight_hh_l0)\n",
        "    rnn_hh_l0_mu_param = pyro.param(\"rnn_hh_l0_mu\", rnn_hh_l0_mu)\n",
        "    rnn_hh_l0_sigma_param = softplus(pyro.param(\"rnn_hh_l0_sigma\", rnn_hh_l0_sigma))\n",
        "    rnn_hh_l0_prior = Normal(loc=rnn_hh_l0_mu_param, scale=rnn_hh_l0_sigma_param)\n",
        "\n",
        "    # Bias bias_ih_l0\n",
        "    bias_ih_l0_mu = torch.randn_like(torch_model.rnn_layer1.bias_ih_l0)\n",
        "    bias_ih_l0_sigma = torch.randn_like(torch_model.rnn_layer1.bias_ih_l0)\n",
        "    bias_ih_l0_mu_param = pyro.param(\"bias_ih_l0_mu\", bias_ih_l0_mu)\n",
        "    bias_ih_l0_sigma_param = softplus(pyro.param(\"bias_ih_l0_sigma\", bias_ih_l0_sigma))\n",
        "    bias_ih_l0_prior = Normal(loc=bias_ih_l0_mu_param, scale=bias_ih_l0_sigma_param)\n",
        "\n",
        "    # Bias bias_hh_l0\n",
        "    bias_hh_l0_mu = torch.randn_like(torch_model.rnn_layer1.bias_hh_l0)\n",
        "    bias_hh_l0_sigma = torch.randn_like(torch_model.rnn_layer1.bias_hh_l0)\n",
        "    bias_hh_l0_mu_param = pyro.param(\"bias_hh_l0_mu\", bias_hh_l0_mu)\n",
        "    bias_hh_l0_sigma_param = softplus(pyro.param(\"bias_hh_l0_sigma\", bias_hh_l0_sigma))\n",
        "    bias_hh_l0_prior = Normal(loc=bias_hh_l0_mu_param, scale=bias_hh_l0_sigma_param)\n",
        "\n",
        "    # Output layer weight distribution priors\n",
        "    outw_mu = torch.randn_like(torch_model.output_layer.weight)\n",
        "    outw_sigma = torch.randn_like(torch_model.output_layer.weight)\n",
        "    outw_mu_param = pyro.param(\"output_layer_mu\", outw_mu)\n",
        "    outw_sigma_param = softplus(pyro.param(\"output_layer_sigma\", outw_sigma))\n",
        "    outw_prior = Normal(loc=outw_mu_param, scale=outw_sigma_param)\n",
        "\n",
        "    # Output layer bias distribution priors\n",
        "    outb_mu = torch.randn_like(torch_model.output_layer.bias)\n",
        "    outb_sigma = torch.randn_like(torch_model.output_layer.bias)\n",
        "    outb_mu_param = pyro.param(\"output_layer_mu\", outb_mu)\n",
        "    outb_sigma_param = softplus(pyro.param(\"output_layer_sigma\", outb_sigma))\n",
        "    outb_prior = Normal(loc=outb_mu_param, scale=outb_sigma_param)\n",
        "\n",
        "    priors = {'rnn_layer1.weight_ih_l0': rnn_ih_l0_prior,\n",
        "              'rnn_layer1.bias_ih_l0': bias_ih_l0_prior,\n",
        "              'rnn_layer1.weight_hh_l0': rnn_hh_l0_prior,\n",
        "              'rnn_layer1.bias_hh_l0': bias_hh_l0_prior,\n",
        "              'output_layer.weight': outw_prior,\n",
        "              'output_layer.bias': outb_prior}\n",
        "    \n",
        "    bayesian_model = pyro.random_module('bayesian_model', torch_model, priors)\n",
        "    \n",
        "    return bayesian_model()\n"
      ],
      "execution_count": 0,
      "outputs": []
    },
    {
      "cell_type": "code",
      "metadata": {
        "id": "2QNVON38QJ1g",
        "colab_type": "code",
        "colab": {}
      },
      "source": [
        "#Pick whether to use custom or predifined guide:\n",
        "#guide = AutoDelta(nnet_model)"
      ],
      "execution_count": 0,
      "outputs": []
    },
    {
      "cell_type": "code",
      "metadata": {
        "id": "iiGBJXQpHyrI",
        "colab_type": "code",
        "outputId": "336832bb-6682-45fa-ea4c-363bd0e7f8f9",
        "colab": {
          "base_uri": "https://localhost:8080/",
          "height": 275
        }
      },
      "source": [
        "# Define the number of optimization steps\n",
        "n_steps = 100\n",
        "\n",
        "#pyro.clear_param_store()\n",
        "\n",
        "loss_list = []\n",
        "\n",
        "# Setup the optimizer\n",
        "adam_params = {\"lr\": 0.1}\n",
        "optimizer = Adam(adam_params)\n",
        "\n",
        "# \"Log\" the ELBO scores:\n",
        "elbo_list = list()\n",
        "\n",
        "# Setup the inference algorithm\n",
        "elbo = Trace_ELBO()\n",
        "\n",
        "svi = SVI(nnet_model, guide, optimizer, loss=elbo)\n",
        "\n",
        "# Do gradient steps\n",
        "for step in range(n_steps):\n",
        "    elbo = svi.step(padded_headlines, torch.tensor(labels).type(torch.DoubleTensor))\n",
        "    elbo_list.append(elbo)\n",
        "\n",
        "    if step % 10 == 0:\n",
        "        loss_list.append(elbo/len(padded_headlines) )\n",
        "        print(\"[%d] ELBO: %.1f\" % (step, elbo))"
      ],
      "execution_count": 0,
      "outputs": [
        {
          "output_type": "stream",
          "text": [
            "/usr/local/lib/python3.6/dist-packages/pyro/primitives.py:406: FutureWarning: The `random_module` primitive is deprecated, and will be removed in a future release. Use `pyro.nn.Module` to create Bayesian modules from `torch.nn.Module` instances.\n",
            "  \"modules from `torch.nn.Module` instances.\", FutureWarning)\n",
            "/usr/local/lib/python3.6/dist-packages/torch/nn/functional.py:1569: UserWarning: nn.functional.sigmoid is deprecated. Use torch.sigmoid instead.\n",
            "  warnings.warn(\"nn.functional.sigmoid is deprecated. Use torch.sigmoid instead.\")\n"
          ],
          "name": "stderr"
        },
        {
          "output_type": "stream",
          "text": [
            "[0] ELBO: 24498.8\n",
            "[10] ELBO: 19733.2\n",
            "[20] ELBO: 18351.4\n",
            "[30] ELBO: 18091.5\n",
            "[40] ELBO: 18001.9\n",
            "[50] ELBO: 17988.5\n",
            "[60] ELBO: 17956.5\n",
            "[70] ELBO: 17922.2\n",
            "[80] ELBO: 17916.2\n",
            "[90] ELBO: 17902.4\n"
          ],
          "name": "stdout"
        }
      ]
    },
    {
      "cell_type": "code",
      "metadata": {
        "id": "iWVDdB3MPqsB",
        "colab_type": "code",
        "outputId": "38d5448f-5ee9-483c-9f7d-32ea135bb9dc",
        "colab": {
          "base_uri": "https://localhost:8080/",
          "height": 332
        }
      },
      "source": [
        "#Plot training ELBO\n",
        "%matplotlib inline\n",
        "plt.plot(elbo_list)\n",
        "plt.title('Training of Bayesian RNN on sarcasm dataset')\n",
        "plt.xlabel('epochs')\n",
        "plt.ylabel('ELBO')"
      ],
      "execution_count": 0,
      "outputs": [
        {
          "output_type": "execute_result",
          "data": {
            "text/plain": [
              "Text(0, 0.5, 'ELBO')"
            ]
          },
          "metadata": {
            "tags": []
          },
          "execution_count": 120
        },
        {
          "output_type": "display_data",
          "data": {
            "image/png": "[encoded data removed]",
            "text/plain": [
              "<Figure size 432x288 with 1 Axes>"
            ]
          },
          "metadata": {
            "tags": [],
            "needs_background": "light"
          }
        }
      ]
    },
    {
      "cell_type": "code",
      "metadata": {
        "id": "4yytbMfj8nvU",
        "colab_type": "code",
        "outputId": "dc5cb079-78ee-4bd7-e68b-152bfc8bb959",
        "colab": {
          "base_uri": "https://localhost:8080/",
          "height": 122
        }
      },
      "source": [
        "from pyro.infer import Predictive\n",
        "\n",
        "# Make predictions for test set\n",
        "predictive = Predictive(nnet_model, guide=guide, num_samples=20,\n",
        "                        return_sites=(\"obs\", \"_RETURN\"))\n",
        "samples = predictive(padded_headlines)\n",
        "\n",
        "true_count = 0\n",
        "for idx, pred in enumerate(torch.median(samples[\"obs\"],dim=0, keepdim=False, out=None)[0]):\n",
        "    if pred > 0.5:\n",
        "        pred = 1\n",
        "    else:\n",
        "        pred = 0\n",
        "    if pred == labels[idx]:\n",
        "        true_count += 1\n",
        "print(true_count/len(padded_headlines))"
      ],
      "execution_count": 0,
      "outputs": [
        {
          "output_type": "stream",
          "text": [
            "/usr/local/lib/python3.6/dist-packages/pyro/primitives.py:406: FutureWarning: The `random_module` primitive is deprecated, and will be removed in a future release. Use `pyro.nn.Module` to create Bayesian modules from `torch.nn.Module` instances.\n",
            "  \"modules from `torch.nn.Module` instances.\", FutureWarning)\n",
            "/usr/local/lib/python3.6/dist-packages/torch/nn/functional.py:1569: UserWarning: nn.functional.sigmoid is deprecated. Use torch.sigmoid instead.\n",
            "  warnings.warn(\"nn.functional.sigmoid is deprecated. Use torch.sigmoid instead.\")\n"
          ],
          "name": "stderr"
        },
        {
          "output_type": "stream",
          "text": [
            "0.523758697027198\n"
          ],
          "name": "stdout"
        }
      ]
    },
    {
      "cell_type": "markdown",
      "metadata": {
        "id": "hKfJDXjgHkr0",
        "colab_type": "text"
      },
      "source": [
        "# Pytorch LSTM network on sarcasm dataset\n",
        "\n",
        "Since we now have 2 probabilisitic models that did not predict sarcasm very well, we now seek other types of models. In this case a LSTM network. "
      ]
    },
    {
      "cell_type": "code",
      "metadata": {
        "id": "zVf1Mn76swwz",
        "colab_type": "code",
        "colab": {}
      },
      "source": [
        "class lstm_network(nn.Module):\n",
        "    def __init__(self, embedding_dim, hidden_dim):\n",
        "        super(lstm_network, self).__init__()\n",
        "\n",
        "        self.embedding_dim = embedding_dim\n",
        "        self.hidden_dim = hidden_dim\n",
        "\n",
        "        self.lstm_layer1 = nn.LSTM(self.embedding_dim, self.hidden_dim, batch_first=True, num_layers=1)\n",
        "        self.output_layer = nn.Linear(hidden_dim, 1)\n",
        "\n",
        "        self.sig = nn.Sigmoid()\n",
        "    \n",
        "    def forward(self, x):\n",
        "\n",
        "        out, (ht, ct) = self.lstm_layer1(x)\n",
        "        out = out.contiguous().view(-1, self.hidden_dim)\n",
        "\n",
        "        out = out.view(len(padded_headlines), -1)\n",
        "\n",
        "        out = out[:,-1]\n",
        "\n",
        "        return out\n"
      ],
      "execution_count": 0,
      "outputs": []
    },
    {
      "cell_type": "code",
      "metadata": {
        "id": "AWNHGiLhQN89",
        "colab_type": "code",
        "colab": {}
      },
      "source": [
        "lstm_net = lstm_network(100, 50)"
      ],
      "execution_count": 0,
      "outputs": []
    },
    {
      "cell_type": "code",
      "metadata": {
        "id": "iEmzSNLkT73i",
        "colab_type": "code",
        "outputId": "973ffea3-ca41-4a1b-e918-7ec1e59d8b5f",
        "colab": {
          "base_uri": "https://localhost:8080/",
          "height": 921
        }
      },
      "source": [
        "epochs = 50\n",
        "lr=0.01\n",
        "labels = torch.tensor(labels).type(torch.DoubleTensor)\n",
        "\n",
        "\n",
        "lstm_net.train()\n",
        "\n",
        "optimizer = torch.optim.Adam(lstm_net.parameters(), lr=lr)\n",
        "#criterion = nn.BCELoss()\n",
        "criterion = nn.BCEWithLogitsLoss()\n",
        "loss_list = []\n",
        "\n",
        "for i in range(epochs):\n",
        "    lstm_net.train()\n",
        "    optimizer.zero_grad() # Clears existing gradients from previous epoch\n",
        "    output = lstm_net(padded_headlines)\n",
        "    output = output.type(torch.DoubleTensor)\n",
        "    #print(output)\n",
        "\n",
        "    #loss = F.binary_cross_entropy(output.squeeze(), labels)\n",
        "    loss = criterion(output.squeeze(), labels)\n",
        "    print(loss.item())\n",
        "    loss_list.append(loss.item())\n",
        "\n",
        "    loss.backward()\n",
        "    optimizer.step()\n"
      ],
      "execution_count": 0,
      "outputs": [
        {
          "output_type": "stream",
          "text": [
            "/usr/local/lib/python3.6/dist-packages/ipykernel_launcher.py:3: UserWarning: To copy construct from a tensor, it is recommended to use sourceTensor.clone().detach() or sourceTensor.clone().detach().requires_grad_(True), rather than torch.tensor(sourceTensor).\n",
            "  This is separate from the ipykernel package so we can avoid doing imports until\n"
          ],
          "name": "stderr"
        },
        {
          "output_type": "stream",
          "text": [
            "0.6941677690756396\n",
            "0.6900371604109314\n",
            "0.6883910630210355\n",
            "0.6880312874239732\n",
            "0.6879107299167495\n",
            "0.6876812500729069\n",
            "0.6875144635399484\n",
            "0.687283512239108\n",
            "0.6869717410442976\n",
            "0.6866623647757247\n",
            "0.6864428188017734\n",
            "0.6862854947177328\n",
            "0.6860503534133306\n",
            "0.685738650506672\n",
            "0.6854901009163291\n",
            "0.6852453051945627\n",
            "0.6848706145079583\n",
            "0.684501733469063\n",
            "0.6841768081063814\n",
            "0.6836862956975294\n",
            "0.683234838397288\n",
            "0.682752300401836\n",
            "0.6821045588300294\n",
            "0.6814861930554006\n",
            "0.6807744933146648\n",
            "0.6799053314890477\n",
            "0.6790736693019065\n",
            "0.6785347356323439\n",
            "0.6777766297790225\n",
            "0.6762673678637813\n",
            "0.6754600330501005\n",
            "0.6743848386275012\n",
            "0.6728924461821606\n",
            "0.6712331062018511\n",
            "0.6696999657684617\n",
            "0.6683266608192786\n",
            "0.6707899528550518\n",
            "0.668921782578977\n",
            "0.6669861575241326\n",
            "0.6663266558802993\n",
            "0.6642130645811597\n",
            "0.6619607565708108\n",
            "0.6607281934245276\n",
            "0.6613642977757231\n",
            "0.658259319080735\n",
            "0.6554603685363677\n",
            "0.655678545443954\n",
            "0.6523002224787356\n",
            "0.6505766434271069\n",
            "0.6504007805109782\n"
          ],
          "name": "stdout"
        }
      ]
    },
    {
      "cell_type": "code",
      "metadata": {
        "id": "D_7Vp8hOQjxw",
        "colab_type": "code",
        "outputId": "5105ff15-4db5-4af9-cc2a-0163db2f21ac",
        "colab": {
          "base_uri": "https://localhost:8080/",
          "height": 332
        }
      },
      "source": [
        "plt.plot(loss_list)\n",
        "plt.title('Training of LSTM on sarcasm dataset')\n",
        "plt.xlabel('epochs')\n",
        "plt.ylabel('BCE With LogLoss')"
      ],
      "execution_count": 0,
      "outputs": [
        {
          "output_type": "execute_result",
          "data": {
            "text/plain": [
              "Text(0, 0.5, 'BCE With LogLoss')"
            ]
          },
          "metadata": {
            "tags": []
          },
          "execution_count": 135
        },
        {
          "output_type": "display_data",
          "data": {
            "image/png": "[encoded data removed]",
            "text/plain": [
              "<Figure size 432x288 with 1 Axes>"
            ]
          },
          "metadata": {
            "tags": [],
            "needs_background": "light"
          }
        }
      ]
    },
    {
      "cell_type": "code",
      "metadata": {
        "id": "ofuVKcCOUeWc",
        "colab_type": "code",
        "colab": {}
      },
      "source": [
        "true_count = 0\n",
        "false_count = 0\n",
        "preds = torch.sigmoid(lstm_net(padded_headlines))\n",
        "\n",
        "for i in range(len(preds)):\n",
        "    if preds[i] > 0.5:\n",
        "        prediction = 1\n",
        "    else:\n",
        "        prediction = 0\n",
        "    \n",
        "    if prediction == labels[i]:\n",
        "        true_count += 1\n",
        "    else:\n",
        "        false_count += 1\n"
      ],
      "execution_count": 0,
      "outputs": []
    },
    {
      "cell_type": "code",
      "metadata": {
        "id": "wPq3Cty6LJmG",
        "colab_type": "code",
        "outputId": "6ee83490-8948-4a90-afa1-3e937f81848b",
        "colab": {
          "base_uri": "https://localhost:8080/",
          "height": 34
        }
      },
      "source": [
        "true_count / (true_count+false_count)"
      ],
      "execution_count": 0,
      "outputs": [
        {
          "output_type": "execute_result",
          "data": {
            "text/plain": [
              "0.6797122074636306"
            ]
          },
          "metadata": {
            "tags": []
          },
          "execution_count": 113
        }
      ]
    },
    {
      "cell_type": "markdown",
      "metadata": {
        "id": "gMKHrGzKGmmd",
        "colab_type": "text"
      },
      "source": [
        "# Non probabilistic Bayesline Model:"
      ]
    },
    {
      "cell_type": "markdown",
      "metadata": {
        "id": "ZJ18LnxIW9e7",
        "colab_type": "text"
      },
      "source": [
        "This baseline model is based of the idea presented in the article \"Are Word Embedding-based Features Useful for Sarcasm Detection?\" (a link to the article can be found in the top of the notebook).\n",
        "\n",
        " Essentially what this model does, is compare the words within each headline to each other to determine if it is sarcastic or not. It does this by computing the cosine similarity between all possible word pairs within a headline, and then extracting 4 values. These 4 valus are as follows: (i) the maximum similarity score for the most similar word in the sentence, (ii) the minimum similarity score for the most similar word in the sentence, (iii) the maximum similarity score for the least similar word in the sentence, and (iv) the minimum similarity score for the lease similar word in the sentence. Logistic regression is then run on these values to classify each headline to be either sarcastic or not.\n",
        "\n",
        "The idea of this model was to reduce the dimensions of the problem from 100 dimensional vectors representing each word in a headline, to 4 values representing the entire headline. By doing this it reduces the complexity of the models inputs."
      ]
    },
    {
      "cell_type": "code",
      "metadata": {
        "id": "7w1YdpMhGzVO",
        "colab_type": "code",
        "colab": {}
      },
      "source": [
        "import matplotlib.pyplot as plt\n",
        "from sklearn.model_selection import train_test_split\n",
        "from sklearn import model_selection\n",
        "from sklearn.linear_model import LogisticRegression\n",
        "import statistics as stat"
      ],
      "execution_count": 0,
      "outputs": []
    },
    {
      "cell_type": "code",
      "metadata": {
        "id": "EML7-x74GqwY",
        "colab_type": "code",
        "colab": {}
      },
      "source": [
        "def baseline_model(data=None, labels=None):\n",
        "\n",
        "    \"\"\"\n",
        "    This baseline is based of the article - \"Are Word Embedding-based \n",
        "    Features Useful for Sarcasm Detection?\" \n",
        "    \"\"\"\n",
        "    #Predefining Matricies \n",
        "    Final_scores = np.zeros((4,np.shape(data)[0]))\n",
        "    #Diff = np.zeros((3,np.shape(data)[0]))\n",
        "\n",
        "    # Itterate through all headlines\n",
        "    for n in range(np.shape(data)[0]):\n",
        "    \n",
        "        # Predefine similarity matrix to be (#words x #words) - resets to zero after every headline\n",
        "        sim_matrix = np.zeros((len(data[n]),len(data[n])))\n",
        "        \n",
        "        # Itterate through each word in the headline and compare it to all other words in the headline\n",
        "        for i in range(len(data[n])):\n",
        "            for j in range(len(data[n])):\n",
        "                \n",
        "                # Calculate similarity score as cosinesimilarity in 100 dimensions\n",
        "                cos_sim = \"{:.2f}\".format(np.dot(data[n][i], data[n][j])/(np.linalg.norm(data[n][i])*np.linalg.norm(data[n][j])))\n",
        "                \n",
        "                # Insert similarity score in the similarity matrix\n",
        "                sim_matrix[i,j] = cos_sim\n",
        "  \n",
        "        # Compute the most and least similar word to the rest and return its row\n",
        "        Max_sim_word = np.argmax(sim_matrix.sum(axis=0))\n",
        "        Min_sim_word = np.argmin(sim_matrix.sum(axis=0))\n",
        "            \n",
        "        # Locate and extract the 4 values:\n",
        "        # Maximum and minimum score of most similar word pair as well as the \n",
        "        # Maximum and minimum score of most dissimilar pair\n",
        "        Max_sim_score = max(x for x in sim_matrix[:,Max_sim_word] if x < 1)\n",
        "        Min_sim_score = min(sim_matrix[:,Max_sim_word])\n",
        "        Max_disim_score = max(x for x in sim_matrix[:,Min_sim_word] if x < 1)\n",
        "        Min_disim_score = min(sim_matrix[:,Min_sim_word])\n",
        "\n",
        "        # Define scores which will be used to estimate sarcasm\n",
        "        Scores = [Max_sim_score , Min_sim_score , Max_disim_score , Min_disim_score]\n",
        "        #Diff[:,n] = [Scores[0] , Scores[2] ,Scores[0]-Scores[2] ]\n",
        "        Final_scores[:,n] = Scores\n",
        "\n",
        "\n",
        "## Logistic regression\n",
        "    # Initialize variables\n",
        "    lambdas = np.logspace(-2, 10, 14)\n",
        "    N = len(lambdas)\n",
        "    T = len(labels)\n",
        "    j = 0\n",
        "\n",
        "    # Initialize crossvalidation\n",
        "    K = 10\n",
        "    CV = model_selection.KFold(n_splits=K,shuffle=True)\n",
        "\n",
        "    #Normalise Final_scores and transposes it to have the right dimensions\n",
        "    Final_norm = (np.subtract(Final_scores, np.transpose(np.ones((len(labels),Final_scores.shape[0]))*np.mean(Final_scores,axis=1)/np.std(Final_scores,axis=1)))).T\n",
        "\n",
        "    print(len(Final_norm))\n",
        "\n",
        "    #Predefine error matrix\n",
        "    Error = np.empty((K,N))\n",
        "\n",
        "    #Predefine min_error and min_lambda vectors\n",
        "    min_errors = np.empty(K)\n",
        "    min_lambda = np.empty(K)\n",
        "\n",
        "   \n",
        "    #This splits the data into test and train indexes\n",
        "    for train_index, test_index in CV.split(Final_norm):\n",
        "        print('Computing CV fold: {0}/{1}..'.format(j+1,K))\n",
        "\n",
        "        # Assigns the values of Final_norm to their test/train indexes\n",
        "        X_train, y_train = Final_norm[train_index,:], labels[train_index]\n",
        "        X_test, y_test = Final_norm[test_index,:], labels[test_index]\n",
        "      \n",
        "        # Predefining vectors\n",
        "        train_error_rate = np.zeros(N)\n",
        "        test_error_rate = np.zeros(N)\n",
        "        \n",
        "        # Run logistic regression on the test and train folds\n",
        "        for k in range(0,N):\n",
        "            mdl = LogisticRegression(penalty='l2', C=1/lambdas[k])\n",
        "            \n",
        "            mdl.fit(X_train, y_train)\n",
        "\n",
        "            y_train_est = mdl.predict(X_train).T\n",
        "            y_test_est = mdl.predict(X_test).T\n",
        "\n",
        "            train_error_rate[k] = np.sum(y_train_est != y_train)/len(y_train)\n",
        "            test_error_rate[k] = np.sum(y_test_est != y_test)/len(y_test)\n",
        "        \n",
        "        # Stores all the errors in error matrix\n",
        "        Error[j,:] = test_error_rate\n",
        "        \n",
        "        # Stores min_error and its lambda for each split fold\n",
        "        min_errors[j] = min(test_error_rate)\n",
        "        min_lambda[j] = lambdas[np.argmin(test_error_rate)]\n",
        "        j += 1\n",
        "\n",
        "    print(\"Minimum error for each fold: {0}\" , min_errors)\n",
        "    print(\"Minimum lambda variable for each fold: {0}\", min_lambda)\n",
        "\n",
        "    plt.figure(num=None, figsize=(15, 6), dpi=80, facecolor='w', edgecolor='k')\n",
        "    plt.boxplot(Error)\n",
        "    plt.xlabel('Regularization strength, $\\log_{10}(\\lambda)$')\n",
        "    plt.ylabel('Error rate (%)')\n",
        "    plt.title('Classification error')\n",
        "    plt.show()\n"
      ],
      "execution_count": 0,
      "outputs": []
    },
    {
      "cell_type": "code",
      "metadata": {
        "id": "2mvV7dZpkzh9",
        "colab_type": "code",
        "outputId": "d7d1e356-a5f1-441f-b206-08bb76fff355",
        "colab": {
          "base_uri": "https://localhost:8080/",
          "height": 745
        }
      },
      "source": [
        "# Run the baseline model with parameters. Note that parameters must be \n",
        "# of type = numpy.array to work\n",
        "\n",
        "final_list_base = [np.array(i) for i in final_list]\n",
        "labels_base = [np.array(i) for i in labels]\n",
        "\n",
        "baseline_model(np.array(final_list_base), np.array(labels_base))"
      ],
      "execution_count": 0,
      "outputs": [
        {
          "output_type": "stream",
          "text": [
            "25296\n",
            "Computing CV fold: 1/10..\n",
            "Computing CV fold: 2/10..\n",
            "Computing CV fold: 3/10..\n",
            "Computing CV fold: 4/10..\n",
            "Computing CV fold: 5/10..\n",
            "Computing CV fold: 6/10..\n",
            "Computing CV fold: 7/10..\n",
            "Computing CV fold: 8/10..\n",
            "Computing CV fold: 9/10..\n",
            "Computing CV fold: 10/10..\n",
            "Minimum error for each fold: {0} [0.45573123 0.44031621 0.43280632 0.45849802 0.44782609 0.46126482\n",
            " 0.43851325 0.44128114 0.46263345 0.4551206 ]\n",
            "Minimum lambda variable for each fold: {0} [4.12462638e+02 1.00000000e-02 4.12462638e+02 1.00000000e-02\n",
            " 7.01703829e-01 4.12462638e+02 4.12462638e+02 4.92388263e+01\n",
            " 4.92388263e+01 4.12462638e+02]\n"
          ],
          "name": "stdout"
        },
        {
          "output_type": "display_data",
          "data": {
            "image/png": "[encoded data removed]",
            "text/plain": [
              "<Figure size 1200x480 with 1 Axes>"
            ]
          },
          "metadata": {
            "tags": []
          }
        }
      ]
    }
  ]
}